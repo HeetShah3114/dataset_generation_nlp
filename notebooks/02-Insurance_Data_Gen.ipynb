{
 "cells": [
  {
   "cell_type": "markdown",
   "metadata": {},
   "source": [
    "INSURANCE-PROVIDER\n",
    "INSURANCE-PROVIDER-ADDRESS\n",
    "INSURANCE-POLICY-NUMBER\n",
    "INSURANCE-GROUP-NUMBER\n",
    "INSURANCE-GROUP-NAME\n"
   ]
  },
  {
   "cell_type": "code",
   "execution_count": 11,
   "metadata": {},
   "outputs": [],
   "source": [
    "import random\n",
    "import re"
   ]
  },
  {
   "cell_type": "code",
   "execution_count": 1,
   "metadata": {},
   "outputs": [],
   "source": [
    "insurance_templates = [\n",
    "    \"Insurer - {INSURANCE-PROVIDER} | Address - {INSURANCE-PROVIDER-ADDRESS} | Policy - {INSURANCE-POLICY-NUMBER} | Group - {INSURANCE-GROUP-NUMBER} | Group Name - {INSURANCE-GROUP-NAME}\",\n",
    "    \"Provider: {INSURANCE-PROVIDER} - Location: {INSURANCE-PROVIDER-ADDRESS} - Policy: {INSURANCE-POLICY-NUMBER} - Group ID: {INSURANCE-GROUP-NUMBER} - Group: {INSURANCE-GROUP-NAME}\",\n",
    "    \"Insurance: {INSURANCE-PROVIDER}, Address: {INSURANCE-PROVIDER-ADDRESS}, Policy Number: {INSURANCE-POLICY-NUMBER}, Group: {INSURANCE-GROUP-NUMBER}, Group Name: {INSURANCE-GROUP-NAME}\",\n",
    "    \"Policy: {INSURANCE-POLICY-NUMBER} | Insurer: {INSURANCE-PROVIDER} | Address: {INSURANCE-PROVIDER-ADDRESS} | Group: {INSURANCE-GROUP-NUMBER} | Group Name: {INSURANCE-GROUP-NAME}\",\n",
    "    \"Insurance Company: {INSURANCE-PROVIDER}, Office Location: {INSURANCE-PROVIDER-ADDRESS}, Policy ID: {INSURANCE-POLICY-NUMBER}, Group ID: {INSURANCE-GROUP-NUMBER}, Group Name: {INSURANCE-GROUP-NAME}\",\n",
    "    \"Insurer - {INSURANCE-PROVIDER}, Location - {INSURANCE-PROVIDER-ADDRESS}, Policy No. - {INSURANCE-POLICY-NUMBER}, Group ID - {INSURANCE-GROUP-NUMBER}, Group - {INSURANCE-GROUP-NAME}\",\n",
    "    \"Company: {INSURANCE-PROVIDER}, Addr: {INSURANCE-PROVIDER-ADDRESS}, Policy: {INSURANCE-POLICY-NUMBER}, Group ID: {INSURANCE-GROUP-NUMBER}, Group: {INSURANCE-GROUP-NAME}\",\n",
    "    \"Insurer: {INSURANCE-PROVIDER} | Addr: {INSURANCE-PROVIDER-ADDRESS} | Policy No.: {INSURANCE-POLICY-NUMBER} | Group ID: {INSURANCE-GROUP-NUMBER} | Group: {INSURANCE-GROUP-NAME}\",\n",
    "    \"Policy Number: {INSURANCE-POLICY-NUMBER}, Insurer: {INSURANCE-PROVIDER}, Address: {INSURANCE-PROVIDER-ADDRESS}, Group ID: {INSURANCE-GROUP-NUMBER}, Group Name: {INSURANCE-GROUP-NAME}\",\n",
    "    \"Insurance Org: {INSURANCE-PROVIDER}, Office: {INSURANCE-PROVIDER-ADDRESS}, Policy ID: {INSURANCE-POLICY-NUMBER}, Group ID: {INSURANCE-GROUP-NUMBER}, Group: {INSURANCE-GROUP-NAME}\",\n",
    "    \"Provider: {INSURANCE-PROVIDER} - Location: {INSURANCE-PROVIDER-ADDRESS} - Policy No.: {INSURANCE-POLICY-NUMBER} - Group ID: {INSURANCE-GROUP-NUMBER} - Group: {INSURANCE-GROUP-NAME}\",\n",
    "    \"Insurer: {INSURANCE-PROVIDER} - Address: {INSURANCE-PROVIDER-ADDRESS} - Policy No.: {INSURANCE-POLICY-NUMBER} - Group ID: {INSURANCE-GROUP-NUMBER} - Group: {INSURANCE-GROUP-NAME}\",\n",
    "    \"Policy Number: {INSURANCE-POLICY-NUMBER}, Insurer: {INSURANCE-PROVIDER}, Address: {INSURANCE-PROVIDER-ADDRESS}, Group ID: {INSURANCE-GROUP-NUMBER}, Group: {INSURANCE-GROUP-NAME}\",\n",
    "    \"Company Name: {INSURANCE-PROVIDER}, Location: {INSURANCE-PROVIDER-ADDRESS}, Policy: {INSURANCE-POLICY-NUMBER}, Group: {INSURANCE-GROUP-NUMBER}, Group Name: {INSURANCE-GROUP-NAME}\",\n",
    "    \"Insurance Provider: {INSURANCE-PROVIDER} - Provider Address: {INSURANCE-PROVIDER-ADDRESS} - Policy Number: {INSURANCE-POLICY-NUMBER} - Group Number: {INSURANCE-GROUP-NUMBER} - Group Name: {INSURANCE-GROUP-NAME}\",\n",
    "    \"Insurer: {INSURANCE-PROVIDER}, Address: {INSURANCE-PROVIDER-ADDRESS}, Policy No.: {INSURANCE-POLICY-NUMBER}, Group: {INSURANCE-GROUP-NUMBER}, Group Name: {INSURANCE-GROUP-NAME}\",\n",
    "    \"Insurance Provider: {INSURANCE-PROVIDER}, Provider Location: {INSURANCE-PROVIDER-ADDRESS}, Policy ID: {INSURANCE-POLICY-NUMBER}, Group ID: {INSURANCE-GROUP-NUMBER}, Group Name: {INSURANCE-GROUP-NAME}\",\n",
    "    \"Provider Name: {INSURANCE-PROVIDER}, Provider Addr: {INSURANCE-PROVIDER-ADDRESS}, Policy No.: {INSURANCE-POLICY-NUMBER}, Group ID: {INSURANCE-GROUP-NUMBER}, Group Name: {INSURANCE-GROUP-NAME}\",\n",
    "    \"Insurer: {INSURANCE-PROVIDER} | Location: {INSURANCE-PROVIDER-ADDRESS} | Policy Number: {INSURANCE-POLICY-NUMBER} | Group ID: {INSURANCE-GROUP-NUMBER} | Group Name: {INSURANCE-GROUP-NAME}\",\n",
    "    \"Company: {INSURANCE-PROVIDER} - Address: {INSURANCE-PROVIDER-ADDRESS} - Policy: {INSURANCE-POLICY-NUMBER} - Group: {INSURANCE-GROUP-NUMBER} - Group Name: {INSURANCE-GROUP-NAME}\",\n",
    "    \"Provider: {INSURANCE-COMPANY} - Address: {INSURANCE-PROVIDER-ADDRESS} - Policy #: {INSURANCE-POLICY-NUMBER}\",\n",
    "    \"Group: {INSURANCE-GROUP-NAME} - Policy Number: {INSURANCE-POLICY-NUMBER} - Insurer: {INSURANCE-PROVIDER}\",\n",
    "    \"Work Location: {INSURANCE-PROVIDER-ADDRESS} - Policy Number (Group): {INSURANCE-POLICY-NUMBER} ({INSURANCE-GROUP-NUMBER})\",\n",
    "    \"Company: {INSURANCE-PROVIDER} - Policy#: {INSURANCE-POLICY-NUMBER} - Group Name: {INSURANCE-GROUP-NAME}\",\n",
    "    \"Policy Number: {INSURANCE-POLICY-NUMBER} - Group Name: {INSURANCE-GROUP-NAME} - Insurance Organization: {INSURANCE-PROVIDER}\",\n",
    "    \"Insurance Co.: {INSURANCE-PROVIDER} - Address: {INSURANCE-PROVIDER-ADDRESS} - Group#: {INSURANCE-GROUP-NUMBER}\",\n",
    "    \"Policy#: {INSURANCE-POLICY-NUMBER} - Location: {INSURANCE-PROVIDER-ADDRESS} - Group: {INSURANCE-GROUP-NAME}\",\n",
    "    \"Insurance Provider: {INSURANCE-PROVIDER} (Claim#: 123456) - Policy Number: {INSURANCE-POLICY-NUMBER} - Group: {INSURANCE-GROUP-NAME}\",\n",
    "    \"Address: {INSURANCE-PROVIDER-ADDRESS} - Policy Number: {INSURANCE-POLICY-NUMBER} - Group (Name): {INSURANCE-GROUP-NAME}\",\n",
    "    \"Insurer: {INSURANCE-PROVIDER} - Group Name: {INSURANCE-GROUP-NAME} - Policy#: {INSURANCE-POLICY-NUMBER}\",\n",
    "    \"Policy Number: {INSURANCE-POLICY-NUMBER} - Insurance Company: {INSURANCE-PROVIDER} - Group (Number): {INSURANCE-GROUP-NUMBER}\",\n",
    "    \"Location: {INSURANCE-PROVIDER-ADDRESS} - Group: {INSURANCE-GROUP-NAME} - Policy#: {INSURANCE-POLICY-NUMBER}\",\n",
    "    \"Insurance Provider: {INSURANCE-PROVIDER} (Claim#: 789012) - Policy Number: {INSURANCE-POLICY-NUMBER} - Group Name: {INSURANCE-GROUP-NAME}\",\n",
    "    \"Work Address: {INSURANCE-PROVIDER-ADDRESS} - Policy Number (Group): {INSURANCE-POLICY-NUMBER} ({INSURANCE-GROUP-NUMBER})\",\n",
    "    \"Group: {INSURANCE-GROUP-NAME} - Policy#: {INSURANCE-POLICY-NUMBER} - Insurance Co.: {INSURANCE-PROVIDER} (Written Note: Contact John Smith)\",\n",
    "    \"Claim#: 123456 - Insurance Provider: {INSURANCE-PROVIDER} - Policy#: {INSURANCE-POLICY-NUMBER} - Group: {INSURANCE-GROUP-NAME}\",\n",
    "    \"Insurance Organization: {INSURANCE-PROVIDER} (Claim#: 987654) - Policy Number: {INSURANCE-POLICY-NUMBER} - Group Name: {INSURANCE-GROUP-NAME}\",\n",
    "    \"Address: {INSURANCE-PROVIDER-ADDRESS} - Group Name: {INSURANCE-GROUP-NAME} - Policy Number: {INSURANCE-POLICY-NUMBER}\",\n",
    "    \"Insurance Co.: {INSURANCE-PROVIDER} - Location: {INSURANCE-PROVIDER-ADDRESS} - Policy#: {INSURANCE-POLICY-NUMBER}\",\n",
    "    \"Insurer Name: {INSURANCE-PROVIDER}, Address: {INSURANCE-PROVIDER-ADDRESS}, Policy ID: {INSURANCE-POLICY-NUMBER}\",\n",
    "    \"Insurance Provider: {INSURANCE-PROVIDER}, Location: {INSURANCE-PROVIDER-ADDRESS}, Policy Number: {INSURANCE-POLICY-NUMBER}, Group ID: {INSURANCE-GROUP-NUMBER}\",\n",
    "    \"Insurance Organization: {INSURANCE-PROVIDER} || Address: {INSURANCE-PROVIDER-ADDRESS} || Policy #: {INSURANCE-POLICY-NUMBER}\",\n",
    "    \"{INSURANCE-PROVIDER} Insurance Company, {INSURANCE-PROVIDER-ADDRESS} Address, Policy No {INSURANCE-POLICY-NUMBER}, Group {INSURANCE-GROUP-NUMBER}\",\n",
    "    \"Insurance Co: {INSURANCE-PROVIDER}, Work Location: {INSURANCE-PROVIDER-ADDRESS}, Policy: {INSURANCE-POLICY-NUMBER\",\n",
    "    \"{INSURANCE-PROVIDER} | {INSURANCE-PROVIDER-ADDRESS} | Policy Number {INSURANCE-POLICY-NUMBER} | Group Name: {INSURANCE-GROUP-NAME}\",\n",
    "    \"Insurance Provider: {INSURANCE-PROVIDER} Address: {INSURANCE-PROVIDER-ADDRESS} Policy Number: {INSURANCE-POLICY-NUMBER}\",\n",
    "    \"{INSURANCE-PROVIDER}, {INSURANCE-PROVIDER-ADDRESS}, Policy: {INSURANCE-POLICY-NUMBER}, Group: {INSURANCE-GROUP-NUMBER}, Name: {INSURANCE-GROUP-NAME}\",\n",
    "    \"Insurance Company Name: {INSURANCE-PROVIDER} Location: {INSURANCE-PROVIDER-ADDRESS} Policy ID: {INSURANCE-POLICY-NUMBER} Additional Text Additional Text\",\n",
    "    \"{INSURANCE-PROVIDER} - {INSURANCE-PROVIDER-ADDRESS} - Policy {INSURANCE-POLICY-NUMBER} - Group {INSURANCE-GROUP-NUMBER} - {INSURANCE-GROUP-NAME}\",\n",
    "    \"Insurance Organization: {INSURANCE-PROVIDER} Policy Number: {INSURANCE-POLICY-NUMBER} Group: {INSURANCE-GROUP-NUMBER} Name: {INSURANCE-GROUP-NAME\",\n",
    "    \"{INSURANCE-PROVIDER} {INSURANCE-PROVIDER-ADDRESS} Policy: {INSURANCE-POLICY-NUMBER}\",\n",
    "    \"Insurance Company: {INSURANCE-PROVIDER} Address: {INSURANCE-PROVIDER-ADDRESS} Policy #: {INSURANCE-POLICY-NUMBER} Group: {INSURANCE-GROUP-NUMBER} Additional Text\",\n",
    "    \"Insurance Provider Name: {INSURANCE-PROVIDER} Address: {INSURANCE-PROVIDER-ADDRESS} Policy ID: {INSURANCE-POLICY-NUMBER} Group ID: {INSURANCE-GROUP-NUMBER} Group Name: {INSURANCE-GROUP-NAME}\",\n",
    "    \"{INSURANCE-PROVIDER} - Policy {INSURANCE-POLICY-NUMBER} - Group {INSURANCE-GROUP-NUMBER} - {INSURANCE-GROUP-NAME}\",\n",
    "    \"Insurance Company: {INSURANCE-PROVIDER} Location: {INSURANCE-PROVIDER-ADDRESS} Policy Number: {INSURANCE-POLICY-NUMBER\",\n",
    "    \"{INSURANCE-PROVIDER} | {INSURANCE-PROVIDER-ADDRESS} | Policy: {INSURANCE-POLICY-NUMBER} | Group: {INSURANCE-GROUP-NUMBER}\",\n",
    "    \"Insurance Provider: {INSURANCE-PROVIDER} Address: {INSURANCE-PROVIDER-ADDRESS} Extra Text Policy Number: {INSURANCE-POLICY-NUMBER}\",\n",
    "    \"{INSURANCE-PROVIDER} || {INSURANCE-PROVIDER-ADDRESS} || Policy: {INSURANCE-POLICY-NUMBER} || Group Name: {INSURANCE-GROUP-NAME}\",\n",
    "    \"Insurance Company Name: {INSURANCE-PROVIDER} Address: {INSURANCE-PROVIDER-ADDRESS} Policy Number: {INSURANCE-POLICY-NUMBER} Group: {INSURANCE-GROUP-NUMBER} Additional Text Here\",\n",
    "]"
   ]
  },
  {
   "cell_type": "code",
   "execution_count": 2,
   "metadata": {},
   "outputs": [],
   "source": [
    "from faker import Faker\n",
    "\n",
    "fake = Faker()\n",
    "\n",
    "\n",
    "def generate_insurance_provider():\n",
    "    return fake.company()\n",
    "\n",
    "\n",
    "def generate_insurance_provider_address():\n",
    "    return fake.address().replace(\"\\n\", \" \")\n",
    "\n",
    "\n",
    "def generate_insurance_policy_number():\n",
    "    return fake.random_element(\n",
    "        elements=(\n",
    "            fake.bothify(text=\"???######\"),\n",
    "            fake.bothify(text=\"P-???#####\"),\n",
    "            fake.bothify(text=\"ID########\"),\n",
    "        )\n",
    "    )\n",
    "\n",
    "\n",
    "def generate_insurance_group_number():\n",
    "    return fake.random_element(\n",
    "        elements=(\n",
    "            fake.bothify(text=\"GRP-???######\"),\n",
    "            fake.bothify(text=\"G-???#####\"),\n",
    "            fake.bothify(text=\"GID########\"),\n",
    "        )\n",
    "    )\n",
    "\n",
    "\n",
    "def generate_insurance_group_name():\n",
    "    return fake.company() + \" Group\""
   ]
  },
  {
   "cell_type": "code",
   "execution_count": 5,
   "metadata": {},
   "outputs": [],
   "source": [
    "placeholder_to_generator = {\n",
    "    \"INSURANCE-PROVIDER\": generate_insurance_provider,\n",
    "    \"INSURANCE-PROVIDER-ADDRESS\": generate_insurance_provider_address,\n",
    "    \"INSURANCE-POLICY-NUMBER\": generate_insurance_policy_number,\n",
    "    \"INSURANCE-GROUP-NUMBER\": generate_insurance_group_number,\n",
    "    \"INSURANCE-GROUP-NAME\": generate_insurance_group_name,\n",
    "}"
   ]
  },
  {
   "cell_type": "code",
   "execution_count": 15,
   "metadata": {},
   "outputs": [],
   "source": [
    "def replace_placeholders(template, placeholder_to_generator):\n",
    "    updated_text = template\n",
    "    entities = []\n",
    "\n",
    "    # Iterate over each placeholder in the template text\n",
    "    while \"{\" in updated_text:\n",
    "        # Find the next placeholder in the updated text\n",
    "        match = re.search(r\"\\{([^{}]*)\\}\", updated_text)\n",
    "        if not match:\n",
    "            break\n",
    "        placeholder = match.group(1)\n",
    "\n",
    "        # Replace the placeholder with the generated value\n",
    "        fake_value = str(placeholder_to_generator[placeholder]())\n",
    "        start, end = match.span()\n",
    "        updated_text = updated_text[:start] + fake_value + updated_text[end:]\n",
    "\n",
    "        # # Update the start and end positions for entities\n",
    "        # print(\"Placeholder:\", placeholder)\n",
    "        # print(\"Start:\", start)\n",
    "        # print(\"End:\", start + len(fake_value))\n",
    "        entities.append((start, start + len(fake_value), placeholder))\n",
    "\n",
    "    return updated_text, {\"entities\": entities}"
   ]
  },
  {
   "cell_type": "code",
   "execution_count": 16,
   "metadata": {},
   "outputs": [],
   "source": [
    "def generate_training_data(placeholder_to_generator, templates, num_samples):\n",
    "    training_data = []\n",
    "\n",
    "    for _ in range(num_samples):\n",
    "        template = random.choice(templates)\n",
    "        updated_text, entities = replace_placeholders(\n",
    "            template, placeholder_to_generator\n",
    "        )\n",
    "        training_data.append((updated_text, entities))\n",
    "\n",
    "    return training_data"
   ]
  },
  {
   "cell_type": "code",
   "execution_count": 20,
   "metadata": {},
   "outputs": [
    {
     "name": "stdout",
     "output_type": "stream",
     "text": [
      "('Insurer - Macdonald-Clark | Address - 7607 Black Isle Suite 365 North Justinton, MI 94090 | Policy - 818978 | Group - 1496 | Group Name - Carlson-Hebert Group', {'entities': [(10, 25, 'INSURANCE-PROVIDER'), (38, 89, 'INSURANCE-PROVIDER-ADDRESS'), (101, 107, 'INSURANCE-POLICY-NUMBER'), (118, 122, 'INSURANCE-GROUP-NUMBER'), (138, 158, 'INSURANCE-GROUP-NAME')]})\n"
     ]
    }
   ],
   "source": [
    "# Example usage\n",
    "from typing import Tuple\n",
    "\n",
    "num_samples = 1\n",
    "training_data = []\n",
    "training_data = generate_training_data(\n",
    "    placeholder_to_generator, insurance_templates, num_samples\n",
    ")\n",
    "print(training_data[0])\n",
    "sample = training_data[0]"
   ]
  },
  {
   "cell_type": "markdown",
   "metadata": {},
   "source": [
    "Insurer - Macdonald-Clark | Address - 7607 Black Isle Suite 365 North Justinton, MI 94090\n"
   ]
  }
 ],
 "metadata": {
  "kernelspec": {
   "display_name": "fgvenv",
   "language": "python",
   "name": "python3"
  },
  "language_info": {
   "codemirror_mode": {
    "name": "ipython",
    "version": 3
   },
   "file_extension": ".py",
   "mimetype": "text/x-python",
   "name": "python",
   "nbconvert_exporter": "python",
   "pygments_lexer": "ipython3",
   "version": "3.12.1"
  }
 },
 "nbformat": 4,
 "nbformat_minor": 2
}
