{
 "cells": [
  {
   "cell_type": "code",
   "execution_count": 1,
   "metadata": {},
   "outputs": [],
   "source": [
    "import re\n",
    "from faker import Faker\n",
    "import spacy\n",
    "import random\n",
    "from spacy.tokens import DocBin\n",
    "\n",
    "fake = Faker()"
   ]
  },
  {
   "cell_type": "code",
   "execution_count": 2,
   "metadata": {},
   "outputs": [],
   "source": [
    "templates = [\n",
    "    \"Patient: Ling Chi, Gender: Male, Admit Date: 10/02/22, VITALS: TEMP. {VITAL-TEMP}, PULSE: {VITAL-PULSE}, RESP: {VITAL-RESP}\",\n",
    "    \"Name: John Brown Account No: 12345 Attending Physician: JeffT. Moore, M.D. Consulting Physician Adm Date: 11/12/1999 DOB: 09/10/44 Community General Hospital Anytown, USA PATIENT ADMISSION ASSESSMENT Date 1/IN44 Time 1600 Admit from: Dr. Office ERSHome Other Health Care Facility:. Reason for Adrission: (Patient's own words). Hechia Surgry Primary Care Physician:. 1i Mloore Previous Health Problems (Patient Only) NA 1. Diabetes 2. Epilepsy/seizure disorder 3. High Blood Pressure 4. Heart Disease 5. Kidney Disease 6. Cancer Medications Anesthetics Other. Comments by nymber and other hosptalationsurgenes Dreyibus lnia repr 7. Respiratory 8. GU/GYN 9. GI 10. Steroid use D 11. Flu Vaccine Current CP N 12. Pneumonia Vaccine current Y(Nnog give patient information VITALS: TEMP. {VITAL-TEMP} PULSE {VITAL-PULSE} RESP {VITAL-RESP} B/P {VITAL-BP} mmHg Wt 19096s ALLERGIES HABITS NVA Food Environmental Dyes Ruber/atexbalons: Yes (NONA Yrs. Other Tobacco: Yes_No per day. Alcohol: Yes-No) per day. Yrs. Chew: Yes No2 yrs. Drug use/abuse: Yes Noype. per day. MEDICATIONS: Brought to hospital: YN Sent Home: Y N To Pharmacy: Y N Personal Pharmacy. NAME NA DOSE/FREQUENCY TIME OF LAST DOSE Rx OTC Do you use herbs or other alternative medications: Yes ONo List: Lainko OKAcSIonly Orientation to room: -3 Calllight Pelephone bathroom location_tghts meal time visitor polcy Personal belongings kept on person or at bedside: None Eyeglasses Contacts Hearing aids Glass eye Walker Wheelchair WE ARE NOT RESPONSIBLE FORI BELONGINGS/NALUABLES. WE STRONGLY SUGGEST YOU SEND ITEMS HOME. lacknowledge that the above belongings are in. my possession. Ihave received information on Advanced Directives and Organ Tissue Denture (Upper/Lower) Partial (Upper/Lower) Crutches Clothing/Other Money $. Donation. (circle) Home Safe Kept Jewelry. (circle) Home Safe Kept Patient gDe Witness hc\",\n",
    "    \"Patient: Mary Jane, ID: 99124, DOB: 02/05/86, Admit Date: 12/2/19, Hospital: StarChrist Hosptial for Cancer Patients, VITALS: TEMP. {VITAL-TEMP}, PULSE: {VITAL-PULSE}\",\n",
    "    \"Patient ID: 595357, Name: Chris Doe, DOB: 4/4/44, VITALS: RESP {VITAL-RESP}/min, B/P {VITAL-BP}mmHg\",\n",
    "    \"Name: Karen Singh, Gender: Other, Admit Date: 10/24/2024, VITALS: B/P {VITAL-BP}, TEMP. {VITAL-TEMP}, RESP: {VITAL-RESP}\",\n",
    "    \"Name: Issac Ferrari, ID: 22928, Hospital: Greenbull Hosptial, VITALS: TEMP. {VITAL-TEMP}, PULSE: {VITAL-PULSE}, B/P {VITAL-BP}\",\n",
    "    \"Patient: Lionel Ronaldo, Admit Date: 09/11/1991, Hospital: Madrid Hospital for Children, VITALS: RESP {VITAL-RESP}, TEMP. {VITAL-TEMP}\",\n",
    "    \"Name: Sam Wood, DOB: 01/01/99, Admit Date: 2/27/20, VITALS: TEMP. {VITAL-TEMP}, HR: {VITAL-PULSE}\",\n",
    "    \"Patient ID: 22127, Name: Ling Diren, Hospital: Apollo Hospital, VITALS: B/P {VITAL-BP}mmHg, TEMP. {VITAL-TEMP}F\",\n",
    "    \"Patient: Maria Gates, Gender: F, Admit Date: 07/22/2021, VITALS: TEMP. {VITAL-TEMP}, RESP: {VITAL-RESP}\",\n",
    "    \"Name: Karan Gupta, ID: 792424, DOB: 7/9/24, VITALS: TEMP. {VITAL-TEMP}, HEART RATE: {VITAL-PULSE}, B/P {VITAL-BP}\",\n",
    "    \"VITALS: RR {VITAL-RESP}, TEMP. {VITAL-TEMP}\",\n",
    "    \"Name: Levy Gotham, TEMP. {VITAL-TEMP}F, PULSE: {VITAL-PULSE}bpm, B/P {VITAL-BP}mmHg\",\n",
    "    \"Vital Readings: T - {VITAL-TEMP}°F, HR - {VITAL-PULSE}bpm, BP - {VITAL-BP}, RR - {VITAL-RESP}/min\"\n",
    "    \"VITALS: Temp - {VITAL-TEMP}, Pulse - {VITAL-PULSE}, Resp - {VITAL-RESP}, BP - {VITAL-BP}\",\n",
    "    \"Vitals - Temp: {VITAL-TEMP}, Pulse: {VITAL-PULSE}, Resp: {VITAL-RESP}, BP: {VITAL-BP}\",\n",
    "    \"Vitals for Patient Thors Odinson: Temp - {VITAL-TEMP}, Pulse - {VITAL-PULSE}, BP - {VITAL-BP}\",\n",
    "    \"Temp - {VITAL-TEMP}, Pulse - {VITAL-PULSE}, Resp - {VITAL-RESP}\",\n",
    "    \"{VITAL-TEMP}F, {VITAL-PULSE}bpm, {VITAL-RESP}/min, BP: {VITAL-BP}mmHg\",\n",
    "    \"Vitals - {VITAL-TEMP}°F, {VITAL-PULSE}bpm, {VITAL-RESP}/min, BP: {VITAL-BP}\",\n",
    "    \"{VITAL-TEMP}°F, {VITAL-PULSE} bpm, {VITAL-RESP} breaths/min, BP: {VITAL-BP}\",\n",
    "    \"Patient's Vitals: Temp - {VITAL-TEMP}, Pulse - {VITAL-PULSE}, Resp - {VITAL-RESP}, BP - {VITAL-BP} | Patient: Lisa Banks\",\n",
    "    \"Patient: Orsborn Shin | Vitals - Resp: {VITAL-RESP}, Pulse: {VITAL-PULSE}, Temp: {VITAL-TEMP}, BP: {VITAL-BP}\",\n",
    "    \"Vitals: BP - {VITAL-BP}, Temp - {VITAL-TEMP}, Resp - {VITAL-RESP}, Pulse - {VITAL-PULSE}\",\n",
    "    \"Patient's Vitals: Pulse - {VITAL-PULSE} bpm, BP - {VITAL-BP} mm/Hg, Resp - {VITAL-RESP} /minutes, Temp - {VITAL-TEMP} Fahrenheit| Patient: Caroline Mendes\",\n",
    "    \"Dear Doctor, please find below the latest vitals for patient: Temperature - {VITAL-TEMP}°F, Pulse - {VITAL-PULSE}beats/min, Respiratory Rate - {VITAL-RESP}/min, Blood Pressure - {VITAL-BP} mm/Hg. Kindly review and advise accordingly. Thank you.\",\n",
    "    \"Dear Dr. Priya Khan, please find below the latest vitals for patient Aakash Gupta: - Temperature: {VITAL-TEMP} - Blood Pressure: {VITAL-BP} - Respiratory Rate: {VITAL-RESP} - Pulse Rate: {VITAL-PULSE}. These readings were taken at 15:03 on 09/27. Your attention to this matter is appreciated. Thank you.\",\n",
    "    \"Abnormal Vitals Recorded: Temp - {VITAL-TEMP}°F (High), Pulse - {VITAL-PULSE}bpm (Low), BP - {VITAL-BP} (High), Resp - {VITAL-RESP}/min (Low)\",\n",
    "    \"Vital Signs: HR - {VITAL-PULSE} bpm, BP - {VITAL-BP}, RR - {VITAL-RESP}/min, Temp - {VITAL-TEMP}°F\",\n",
    "    \"T - {VITAL-TEMP}, HR - {VITAL-PULSE}, BP - {VITAL-BP}mmHg, RR - {VITAL-RESP}/min\",\n",
    "]"
   ]
  },
  {
   "cell_type": "code",
   "execution_count": 3,
   "metadata": {},
   "outputs": [],
   "source": [
    "from faker import Faker\n",
    "\n",
    "fake = Faker()\n",
    "\n",
    "\n",
    "def generate_temperature():\n",
    "    temperature = fake.pyfloat(right_digits=1, positive=True, min_value=80.0, max_value=105.5)\n",
    "    return temperature\n",
    "\n",
    "\n",
    "def generate_resp_rate():\n",
    "    resp_rate = fake.random_int(min=8, max=29)\n",
    "    return resp_rate\n",
    "\n",
    "\n",
    "def generate_blood_pressure():\n",
    "    bp_up = fake.random_int(min=80, max=150)\n",
    "    bp_down = fake.random_int(min=60, max=90)\n",
    "    bp = \"{}/{}\".format(bp_up, bp_down)\n",
    "    return bp\n",
    "\n",
    "def generate_pulse_rate():\n",
    "    pulse = fake.random_int(min=40, max=140)\n",
    "    return pulse"
   ]
  },
  {
   "cell_type": "code",
   "execution_count": null,
   "metadata": {},
   "outputs": [],
   "source": [
    "#print(generate_blood_pressure())\n",
    "#print(generate_pulse_rate())\n",
    "#print(generate_resp_rate())\n",
    "#print(generate_temperature())"
   ]
  },
  {
   "cell_type": "code",
   "execution_count": 14,
   "metadata": {},
   "outputs": [],
   "source": [
    "placeholder_to_generator = {\n",
    "    \"VITAL-TEMP\": generate_temperature,\n",
    "    \"VITAL-PULSE\": generate_pulse_rate,\n",
    "    \"VITAL-RESP\": generate_resp_rate,\n",
    "    \"VITAL-BP\": generate_blood_pressure\n",
    "}"
   ]
  },
  {
   "cell_type": "code",
   "execution_count": 24,
   "metadata": {},
   "outputs": [],
   "source": [
    "def replace_placeholders(template, placeholder_to_generator):\n",
    "    updated_text = template\n",
    "    entities = []\n",
    "\n",
    "    # Iterate over each placeholder in the template text\n",
    "    while \"{\" in updated_text:\n",
    "        # Find the next placeholder in the updated text\n",
    "        match = re.search(r\"\\{([^{}]*)\\}\", updated_text)\n",
    "        if not match:\n",
    "            break\n",
    "        placeholder = match.group(1)\n",
    "\n",
    "        # Replace the placeholder with the generated value\n",
    "        fake_value = placeholder_to_generator[placeholder]()\n",
    "        start, end = match.span()\n",
    "        updated_text = updated_text[:start] + str(fake_value) + updated_text[end:]\n",
    "\n",
    "        # # Update the start and end positions for entities\n",
    "        # print(\"Placeholder:\", placeholder)\n",
    "        # print(\"Start:\", start)\n",
    "        # print(\"End:\", start + len(fake_value))\n",
    "        entities.append((start, start + len(str(fake_value)), placeholder))\n",
    "\n",
    "    return updated_text, {\"entities\": entities}"
   ]
  },
  {
   "cell_type": "code",
   "execution_count": 29,
   "metadata": {},
   "outputs": [
    {
     "name": "stdout",
     "output_type": "stream",
     "text": [
      "('Patient: Ling Chi, Gender: Male, Admit Date: 10/02/22, VITALS: TEMP. 102.6, PULSE: 75, RESP: 8', {'entities': [(69, 74, 'VITAL-TEMP'), (83, 85, 'VITAL-PULSE'), (93, 94, 'VITAL-RESP')]})\n",
      "(\"Name: John Brown Account No: 12345 Attending Physician: JeffT. Moore, M.D. Consulting Physician Adm Date: 11/12/1999 DOB: 09/10/44 Community General Hospital Anytown, USA PATIENT ADMISSION ASSESSMENT Date 1/IN44 Time 1600 Admit from: Dr. Office ERSHome Other Health Care Facility:. Reason for Adrission: (Patient's own words). Hechia Surgry Primary Care Physician:. 1i Mloore Previous Health Problems (Patient Only) NA 1. Diabetes 2. Epilepsy/seizure disorder 3. High Blood Pressure 4. Heart Disease 5. Kidney Disease 6. Cancer Medications Anesthetics Other. Comments by nymber and other hosptalationsurgenes Dreyibus lnia repr 7. Respiratory 8. GU/GYN 9. GI 10. Steroid use D 11. Flu Vaccine Current CP N 12. Pneumonia Vaccine current Y(Nnog give patient information VITALS: TEMP. 81.3 PULSE 80 RESP 14 B/P 84/74 mmHg Wt 19096s ALLERGIES HABITS NVA Food Environmental Dyes Ruber/atexbalons: Yes (NONA Yrs. Other Tobacco: Yes_No per day. Alcohol: Yes-No) per day. Yrs. Chew: Yes No2 yrs. Drug use/abuse: Yes Noype. per day. MEDICATIONS: Brought to hospital: YN Sent Home: Y N To Pharmacy: Y N Personal Pharmacy. NAME NA DOSE/FREQUENCY TIME OF LAST DOSE Rx OTC Do you use herbs or other alternative medications: Yes ONo List: Lainko OKAcSIonly Orientation to room: -3 Calllight Pelephone bathroom location_tghts meal time visitor polcy Personal belongings kept on person or at bedside: None Eyeglasses Contacts Hearing aids Glass eye Walker Wheelchair WE ARE NOT RESPONSIBLE FORI BELONGINGS/NALUABLES. WE STRONGLY SUGGEST YOU SEND ITEMS HOME. lacknowledge that the above belongings are in. my possession. Ihave received information on Advanced Directives and Organ Tissue Denture (Upper/Lower) Partial (Upper/Lower) Crutches Clothing/Other Money $. Donation. (circle) Home Safe Kept Jewelry. (circle) Home Safe Kept Patient gDe Witness hc\", {'entities': [(782, 786, 'VITAL-TEMP'), (793, 795, 'VITAL-PULSE'), (801, 803, 'VITAL-RESP'), (808, 813, 'VITAL-BP')]})\n",
      "('Patient: Mary Jane, ID: 99124, DOB: 02/05/86, Admit Date: 12/2/19, Hospital: StarChrist Hosptial for Cancer Patients, VITALS: TEMP. 102.2, PULSE: 43', {'entities': [(132, 137, 'VITAL-TEMP'), (146, 148, 'VITAL-PULSE')]})\n",
      "('Patient ID: 595357, Name: Chris Doe, DOB: 4/4/44, VITALS: RESP 23/min, B/P 111/70mmHg', {'entities': [(63, 65, 'VITAL-RESP'), (75, 81, 'VITAL-BP')]})\n",
      "('Name: Karen Singh, Gender: Other, Admit Date: 10/24/2024, VITALS: B/P 149/65, TEMP. 96.6, RESP: 20', {'entities': [(70, 76, 'VITAL-BP'), (84, 88, 'VITAL-TEMP'), (96, 98, 'VITAL-RESP')]})\n",
      "('Name: Issac Ferrari, ID: 22928, Hospital: Greenbull Hosptial, VITALS: TEMP. 92.3, PULSE: 126, B/P 106/87', {'entities': [(76, 80, 'VITAL-TEMP'), (89, 92, 'VITAL-PULSE'), (98, 104, 'VITAL-BP')]})\n",
      "('Patient: Lionel Ronaldo, Admit Date: 09/11/1991, Hospital: Madrid Hospital for Children, VITALS: RESP 26, TEMP. 94.4', {'entities': [(102, 104, 'VITAL-RESP'), (112, 116, 'VITAL-TEMP')]})\n",
      "('Name: Sam Wood, DOB: 01/01/99, Admit Date: 2/27/20, VITALS: TEMP. 94.8, HR: 41', {'entities': [(66, 70, 'VITAL-TEMP'), (76, 78, 'VITAL-PULSE')]})\n",
      "('Patient ID: 22127, Name: Ling Diren, Hospital: Apollo Hospital, VITALS: B/P 93/64mmHg, TEMP. 98.7F', {'entities': [(76, 81, 'VITAL-BP'), (93, 97, 'VITAL-TEMP')]})\n",
      "('Patient: Maria Gates, Gender: F, Admit Date: 07/22/2021, VITALS: TEMP. 97.0, RESP: 24', {'entities': [(71, 75, 'VITAL-TEMP'), (83, 85, 'VITAL-RESP')]})\n",
      "('Name: Karan Gupta, ID: 792424, DOB: 7/9/24, VITALS: TEMP. 98.1, HEART RATE: 58, B/P 89/87', {'entities': [(58, 62, 'VITAL-TEMP'), (76, 78, 'VITAL-PULSE'), (84, 89, 'VITAL-BP')]})\n",
      "('VITALS: RR 13, TEMP. 101.8', {'entities': [(11, 13, 'VITAL-RESP'), (21, 26, 'VITAL-TEMP')]})\n",
      "('Name: Levy Gotham, TEMP. 94.7F, PULSE: 76bpm, B/P 136/84mmHg', {'entities': [(25, 29, 'VITAL-TEMP'), (39, 41, 'VITAL-PULSE'), (50, 56, 'VITAL-BP')]})\n",
      "('Vital Readings: T - 99.1°F, HR - 75bpm, BP - 90/74, RR - 19/minVITALS: Temp - 89.6, Pulse - 118, Resp - 28, BP - 150/73', {'entities': [(20, 24, 'VITAL-TEMP'), (33, 35, 'VITAL-PULSE'), (45, 50, 'VITAL-BP'), (57, 59, 'VITAL-RESP'), (78, 82, 'VITAL-TEMP'), (92, 95, 'VITAL-PULSE'), (104, 106, 'VITAL-RESP'), (113, 119, 'VITAL-BP')]})\n",
      "('Vitals - Temp: 95.9, Pulse: 120, Resp: 29, BP: 133/84', {'entities': [(15, 19, 'VITAL-TEMP'), (28, 31, 'VITAL-PULSE'), (39, 41, 'VITAL-RESP'), (47, 53, 'VITAL-BP')]})\n",
      "('Vitals for Patient Thors Odinson: Temp - 94.7, Pulse - 61, BP - 128/85', {'entities': [(41, 45, 'VITAL-TEMP'), (55, 57, 'VITAL-PULSE'), (64, 70, 'VITAL-BP')]})\n",
      "('Temp - 90.9, Pulse - 42, Resp - 19', {'entities': [(7, 11, 'VITAL-TEMP'), (21, 23, 'VITAL-PULSE'), (32, 34, 'VITAL-RESP')]})\n",
      "('103.0F, 138bpm, 14/min, BP: 88/85mmHg', {'entities': [(0, 5, 'VITAL-TEMP'), (8, 11, 'VITAL-PULSE'), (16, 18, 'VITAL-RESP'), (28, 33, 'VITAL-BP')]})\n",
      "('Vitals - 89.3°F, 126bpm, 19/min, BP: 132/61', {'entities': [(9, 13, 'VITAL-TEMP'), (17, 20, 'VITAL-PULSE'), (25, 27, 'VITAL-RESP'), (37, 43, 'VITAL-BP')]})\n",
      "('96.0°F, 101 bpm, 13 breaths/min, BP: 150/83', {'entities': [(0, 4, 'VITAL-TEMP'), (8, 11, 'VITAL-PULSE'), (17, 19, 'VITAL-RESP'), (37, 43, 'VITAL-BP')]})\n",
      "(\"Patient's Vitals: Temp - 89.5, Pulse - 101, Resp - 28, BP - 95/87 | Patient: Lisa Banks\", {'entities': [(25, 29, 'VITAL-TEMP'), (39, 42, 'VITAL-PULSE'), (51, 53, 'VITAL-RESP'), (60, 65, 'VITAL-BP')]})\n",
      "('Patient: Orsborn Shin | Vitals - Resp: 9, Pulse: 98, Temp: 87.5, BP: 120/71', {'entities': [(39, 40, 'VITAL-RESP'), (49, 51, 'VITAL-PULSE'), (59, 63, 'VITAL-TEMP'), (69, 75, 'VITAL-BP')]})\n",
      "('Vitals: BP - 83/64, Temp - 89.9, Resp - 24, Pulse - 107', {'entities': [(13, 18, 'VITAL-BP'), (27, 31, 'VITAL-TEMP'), (40, 42, 'VITAL-RESP'), (52, 55, 'VITAL-PULSE')]})\n",
      "(\"Patient's Vitals: Pulse - 42 bpm, BP - 137/85 mm/Hg, Resp - 16 /minutes, Temp - 86.6 Fahrenheit| Patient: Caroline Mendes\", {'entities': [(26, 28, 'VITAL-PULSE'), (39, 45, 'VITAL-BP'), (60, 62, 'VITAL-RESP'), (80, 84, 'VITAL-TEMP')]})\n",
      "('Dear Doctor, please find below the latest vitals for patient: Temperature - 88.8°F, Pulse - 48beats/min, Respiratory Rate - 25/min, Blood Pressure - 122/75 mm/Hg. Kindly review and advise accordingly. Thank you.', {'entities': [(76, 80, 'VITAL-TEMP'), (92, 94, 'VITAL-PULSE'), (124, 126, 'VITAL-RESP'), (149, 155, 'VITAL-BP')]})\n",
      "('Dear Dr. Priya Khan, please find below the latest vitals for patient Aakash Gupta: - Temperature: 89.8 - Blood Pressure: 82/63 - Respiratory Rate: 21 - Pulse Rate: 85. These readings were taken at 15:03 on 09/27. Your attention to this matter is appreciated. Thank you.', {'entities': [(98, 102, 'VITAL-TEMP'), (121, 126, 'VITAL-BP'), (147, 149, 'VITAL-RESP'), (164, 166, 'VITAL-PULSE')]})\n",
      "('Abnormal Vitals Recorded: Temp - 84.5°F (High), Pulse - 81bpm (Low), BP - 134/71 (High), Resp - 22/min (Low)', {'entities': [(33, 37, 'VITAL-TEMP'), (56, 58, 'VITAL-PULSE'), (74, 80, 'VITAL-BP'), (96, 98, 'VITAL-RESP')]})\n",
      "('Vital Signs: HR - 62 bpm, BP - 148/71, RR - 21/min, Temp - 102.2°F', {'entities': [(18, 20, 'VITAL-PULSE'), (31, 37, 'VITAL-BP'), (44, 46, 'VITAL-RESP'), (59, 64, 'VITAL-TEMP')]})\n",
      "('T - 92.9, HR - 41, BP - 146/73mmHg, RR - 18/min', {'entities': [(4, 8, 'VITAL-TEMP'), (15, 17, 'VITAL-PULSE'), (24, 30, 'VITAL-BP'), (41, 43, 'VITAL-RESP')]})\n"
     ]
    }
   ],
   "source": [
    "#Sample run of all templates one time\n",
    "\n",
    "for template in templates:\n",
    "    print(replace_placeholders(template, placeholder_to_generator))"
   ]
  },
  {
   "cell_type": "code",
   "execution_count": 48,
   "metadata": {},
   "outputs": [],
   "source": [
    "#Add to json for easy readbility of generated data\n",
    "\n",
    "import json\n",
    "\n",
    "# Generate data for each template\n",
    "data = [replace_placeholders(template, placeholder_to_generator) for template in templates]\n",
    "\n",
    "# Write data to a JSON file\n",
    "with open(\"C:\\\\Users\\\\HShah\\\\OneDrive - Genzeon Corporation\\\\Desktop\\\\ner_dataset\\\\vitals\\\\generated_data.json\", \"w\") as file:\n",
    "    json.dump(data, file, indent=4)\n"
   ]
  },
  {
   "cell_type": "code",
   "execution_count": 51,
   "metadata": {},
   "outputs": [
    {
     "name": "stdout",
     "output_type": "stream",
     "text": [
      "Patient: Ling Chi, Gender: Male, Admit Date: 10/02/22, VITALS: TEMP. \u001b[1;33m102.6\u001b[0m, PULSE: \u001b[1;33m47\u001b[0m, RESP: \u001b[1;33m17\u001b[0m\n",
      "Name: John Brown Account No: 12345 Attending Physician: JeffT. Moore, M.D. Consulting Physician Adm Date: 11/12/1999 DOB: 09/10/44 Community General Hospital Anytown, USA PATIENT ADMISSION ASSESSMENT Date 1/IN44 Time 1600 Admit from: Dr. Office ERSHome Other Health Care Facility:. Reason for Adrission: (Patient's own words). Hechia Surgry Primary Care Physician:. 1i Mloore Previous Health Problems (Patient Only) NA 1. Diabetes 2. Epilepsy/seizure disorder 3. High Blood Pressure 4. Heart Disease 5. Kidney Disease 6. Cancer Medications Anesthetics Other. Comments by nymber and other hosptalationsurgenes Dreyibus lnia repr 7. Respiratory 8. GU/GYN 9. GI 10. Steroid use D 11. Flu Vaccine Current CP N 12. Pneumonia Vaccine current Y(Nnog give patient information VITALS: TEMP. \u001b[1;33m97.9\u001b[0m PULSE \u001b[1;33m71\u001b[0m RESP \u001b[1;33m22\u001b[0m B/P \u001b[1;33m142/61\u001b[0m mmHg Wt 19096s ALLERGIES HABITS NVA Food Environmental Dyes Ruber/atexbalons: Yes (NONA Yrs. Other Tobacco: Yes_No per day. Alcohol: Yes-No) per day. Yrs. Chew: Yes No2 yrs. Drug use/abuse: Yes Noype. per day. MEDICATIONS: Brought to hospital: YN Sent Home: Y N To Pharmacy: Y N Personal Pharmacy. NAME NA DOSE/FREQUENCY TIME OF LAST DOSE Rx OTC Do you use herbs or other alternative medications: Yes ONo List: Lainko OKAcSIonly Orientation to room: -3 Calllight Pelephone bathroom location_tghts meal time visitor polcy Personal belongings kept on person or at bedside: None Eyeglasses Contacts Hearing aids Glass eye Walker Wheelchair WE ARE NOT RESPONSIBLE FORI BELONGINGS/NALUABLES. WE STRONGLY SUGGEST YOU SEND ITEMS HOME. lacknowledge that the above belongings are in. my possession. Ihave received information on Advanced Directives and Organ Tissue Denture (Upper/Lower) Partial (Upper/Lower) Crutches Clothing/Other Money $. Donation. (circle) Home Safe Kept Jewelry. (circle) Home Safe Kept Patient gDe Witness hc\n",
      "Patient: Mary Jane, ID: 99124, DOB: 02/05/86, Admit Date: 12/2/19, Hospital: StarChrist Hosptial for Cancer Patients, VITALS: TEMP. \u001b[1;33m80.1\u001b[0m, PULSE: \u001b[1;33m53\u001b[0m\n",
      "Patient ID: 595357, Name: Chris Doe, DOB: 4/4/44, VITALS: RESP \u001b[1;33m19\u001b[0m/min, B/P \u001b[1;33m122/88\u001b[0mmmHg\n",
      "Name: Karen Singh, Gender: Other, Admit Date: 10/24/2024, VITALS: B/P \u001b[1;33m106/64\u001b[0m, TEMP. \u001b[1;33m81.4\u001b[0m, RESP: \u001b[1;33m28\u001b[0m\n",
      "Name: Issac Ferrari, ID: 22928, Hospital: Greenbull Hosptial, VITALS: TEMP. \u001b[1;33m80.3\u001b[0m, PULSE: \u001b[1;33m131\u001b[0m, B/P \u001b[1;33m85/68\u001b[0m\n",
      "Patient: Lionel Ronaldo, Admit Date: 09/11/1991, Hospital: Madrid Hospital for Children, VITALS: RESP \u001b[1;33m14\u001b[0m, TEMP. \u001b[1;33m101.2\u001b[0m\n",
      "Name: Sam Wood, DOB: 01/01/99, Admit Date: 2/27/20, VITALS: TEMP. \u001b[1;33m92.8\u001b[0m, HR: \u001b[1;33m119\u001b[0m\n",
      "Patient ID: 22127, Name: Ling Diren, Hospital: Apollo Hospital, VITALS: B/P \u001b[1;33m135/64\u001b[0mmmHg, TEMP. \u001b[1;33m84.7\u001b[0mF\n",
      "Patient: Maria Gates, Gender: F, Admit Date: 07/22/2021, VITALS: TEMP. \u001b[1;33m90.4\u001b[0m, RESP: \u001b[1;33m16\u001b[0m\n",
      "Name: Karan Gupta, ID: 792424, DOB: 7/9/24, VITALS: TEMP. \u001b[1;33m98.1\u001b[0m, HEART RATE: \u001b[1;33m51\u001b[0m, B/P \u001b[1;33m132/67\u001b[0m\n",
      "VITALS: RR \u001b[1;33m21\u001b[0m, TEMP. \u001b[1;33m84.9\u001b[0m\n",
      "Name: Levy Gotham, TEMP. \u001b[1;33m98.2\u001b[0mF, PULSE: \u001b[1;33m86\u001b[0mbpm, B/P \u001b[1;33m117/61\u001b[0mmmHg\n",
      "Vital Readings: T - \u001b[1;33m90.8\u001b[0m°F, HR - \u001b[1;33m107\u001b[0mbpm, BP - \u001b[1;33m133/76\u001b[0m, RR - \u001b[1;33m12\u001b[0m/minVITALS: Temp - \u001b[1;33m99.9\u001b[0m, Pulse - \u001b[1;33m80\u001b[0m, Resp - \u001b[1;33m24\u001b[0m, BP - \u001b[1;33m89/90\u001b[0m\n",
      "Vitals - Temp: \u001b[1;33m98.0\u001b[0m, Pulse: \u001b[1;33m62\u001b[0m, Resp: \u001b[1;33m25\u001b[0m, BP: \u001b[1;33m98/62\u001b[0m\n",
      "Vitals for Patient Thors Odinson: Temp - \u001b[1;33m93.7\u001b[0m, Pulse - \u001b[1;33m92\u001b[0m, BP - \u001b[1;33m89/82\u001b[0m\n",
      "Temp - \u001b[1;33m83.9\u001b[0m, Pulse - \u001b[1;33m91\u001b[0m, Resp - \u001b[1;33m17\u001b[0m\n",
      "\u001b[1;33m103.6\u001b[0mF, \u001b[1;33m41\u001b[0mbpm, \u001b[1;33m8\u001b[0m/min, BP: \u001b[1;33m102/71\u001b[0mmmHg\n",
      "Vitals - \u001b[1;33m84.2\u001b[0m°F, \u001b[1;33m97\u001b[0mbpm, \u001b[1;33m23\u001b[0m/min, BP: \u001b[1;33m143/90\u001b[0m\n",
      "\u001b[1;33m81.2\u001b[0m°F, \u001b[1;33m98\u001b[0m bpm, \u001b[1;33m15\u001b[0m breaths/min, BP: \u001b[1;33m89/87\u001b[0m\n",
      "Patient's Vitals: Temp - \u001b[1;33m90.8\u001b[0m, Pulse - \u001b[1;33m138\u001b[0m, Resp - \u001b[1;33m19\u001b[0m, BP - \u001b[1;33m144/80\u001b[0m | Patient: Lisa Banks\n",
      "Patient: Orsborn Shin | Vitals - Resp: \u001b[1;33m19\u001b[0m, Pulse: \u001b[1;33m52\u001b[0m, Temp: \u001b[1;33m85.0\u001b[0m, BP: \u001b[1;33m143/61\u001b[0m\n",
      "Vitals: BP - \u001b[1;33m80/68\u001b[0m, Temp - \u001b[1;33m104.6\u001b[0m, Resp - \u001b[1;33m13\u001b[0m, Pulse - \u001b[1;33m111\u001b[0m\n",
      "Patient's Vitals: Pulse - \u001b[1;33m41\u001b[0m bpm, BP - \u001b[1;33m124/67\u001b[0m mm/Hg, Resp - \u001b[1;33m16\u001b[0m /minutes, Temp - \u001b[1;33m103.5\u001b[0m Fahrenheit| Patient: Caroline Mendes\n",
      "Dear Doctor, please find below the latest vitals for patient: Temperature - \u001b[1;33m92.2\u001b[0m°F, Pulse - \u001b[1;33m108\u001b[0mbeats/min, Respiratory Rate - \u001b[1;33m16\u001b[0m/min, Blood Pressure - \u001b[1;33m99/85\u001b[0m mm/Hg. Kindly review and advise accordingly. Thank you.\n",
      "Dear Dr. Priya Khan, please find below the latest vitals for patient Aakash Gupta: - Temperature: \u001b[1;33m101.0\u001b[0m - Blood Pressure: \u001b[1;33m121/71\u001b[0m - Respiratory Rate: \u001b[1;33m29\u001b[0m - Pulse Rate: \u001b[1;33m62\u001b[0m. These readings were taken at 15:03 on 09/27. Your attention to this matter is appreciated. Thank you.\n",
      "Abnormal Vitals Recorded: Temp - \u001b[1;33m93.7\u001b[0m°F (High), Pulse - \u001b[1;33m109\u001b[0mbpm (Low), BP - \u001b[1;33m146/79\u001b[0m (High), Resp - \u001b[1;33m25\u001b[0m/min (Low)\n",
      "Vital Signs: HR - \u001b[1;33m51\u001b[0m bpm, BP - \u001b[1;33m82/75\u001b[0m, RR - \u001b[1;33m13\u001b[0m/min, Temp - \u001b[1;33m84.8\u001b[0m°F\n",
      "T - \u001b[1;33m88.6\u001b[0m, HR - \u001b[1;33m101\u001b[0m, BP - \u001b[1;33m143/60\u001b[0mmmHg, RR - \u001b[1;33m16\u001b[0m/min\n"
     ]
    }
   ],
   "source": [
    "#Highlighting text to see if spans are correct\n",
    "\n",
    "import json\n",
    "\n",
    "def highlight_text(text, entities):\n",
    "    highlighted_text = \"\"\n",
    "    current_pos = 0\n",
    "\n",
    "    for entity in entities:\n",
    "        start, end, label = entity\n",
    "        highlighted_text += text[current_pos:start]  # Append text before the entity\n",
    "        highlighted_text += \"\\033[1;33m\" + text[start:end] + \"\\033[0m\"  # Highlight the entity\n",
    "        current_pos = end  # Update current position\n",
    "\n",
    "    highlighted_text += text[current_pos:]  # Append remaining text\n",
    "    return highlighted_text\n",
    "\n",
    "# Load data from JSON file\n",
    "with open(\"C:\\\\Users\\\\HShah\\\\OneDrive - Genzeon Corporation\\\\Desktop\\\\ner_dataset\\\\vitals\\\\generated_data.json\", \"r\") as file:\n",
    "    data = json.load(file)\n",
    "\n",
    "# Iterate over each element in the JSON\n",
    "for entry in data:\n",
    "    if isinstance(entry, list) and len(entry) == 2:\n",
    "        text = entry[0]\n",
    "        entities = entry[1][\"entities\"]\n",
    "        highlighted_text = highlight_text(text, entities)\n",
    "        print(highlighted_text)\n",
    "    else:\n",
    "        print(\"Invalid JSON format for entry:\", entry)\n"
   ]
  },
  {
   "cell_type": "markdown",
   "metadata": {},
   "source": [
    "METHOD TO GENERATE 'N' SAMPLES\n"
   ]
  },
  {
   "cell_type": "code",
   "execution_count": 31,
   "metadata": {},
   "outputs": [],
   "source": [
    "def generate_training_data(placeholder_to_generator, templates, num_samples):\n",
    "    training_data = []\n",
    "\n",
    "    for _ in range(num_samples):\n",
    "        template = random.choice(templates)\n",
    "        updated_text, entities = replace_placeholders(\n",
    "            template, placeholder_to_generator\n",
    "        )\n",
    "        training_data.append((updated_text, entities))\n",
    "\n",
    "    return training_data"
   ]
  },
  {
   "cell_type": "code",
   "execution_count": 40,
   "metadata": {},
   "outputs": [
    {
     "name": "stdout",
     "output_type": "stream",
     "text": [
      "Sample 0\n",
      "Text:Vitals - Temp: 87.7, Pulse: 99, Resp: 20, BP: 84/74\n",
      "Entities:[(15, 19, 'VITAL-TEMP'), (28, 30, 'VITAL-PULSE'), (38, 40, 'VITAL-RESP'), (46, 51, 'VITAL-BP')]\n",
      "Sample 1\n",
      "Text:T - 91.2, HR - 72, BP - 91/89mmHg, RR - 14/min\n",
      "Entities:[(4, 8, 'VITAL-TEMP'), (15, 17, 'VITAL-PULSE'), (24, 29, 'VITAL-BP'), (40, 42, 'VITAL-RESP')]\n",
      "Sample 2\n",
      "Text:Patient: Maria Gates, Gender: F, Admit Date: 07/22/2021, VITALS: TEMP. 86.0, RESP: 25\n",
      "Entities:[(71, 75, 'VITAL-TEMP'), (83, 85, 'VITAL-RESP')]\n",
      "Sample 3\n",
      "Text:Name: Sam Wood, DOB: 01/01/99, Admit Date: 2/27/20, VITALS: TEMP. 83.0, HR: 106\n",
      "Entities:[(66, 70, 'VITAL-TEMP'), (76, 79, 'VITAL-PULSE')]\n",
      "Sample 4\n",
      "Text:Patient's Vitals: Temp - 82.8, Pulse - 56, Resp - 26, BP - 124/79 | Patient: Lisa Banks\n",
      "Entities:[(25, 29, 'VITAL-TEMP'), (39, 41, 'VITAL-PULSE'), (50, 52, 'VITAL-RESP'), (59, 65, 'VITAL-BP')]\n"
     ]
    }
   ],
   "source": [
    "# Example usage\n",
    "num_samples = 5\n",
    "training_data = generate_training_data(placeholder_to_generator, templates, num_samples)\n",
    "\n",
    "for idx, sample in enumerate(training_data[::-1]):\n",
    "    print(f\"Sample {idx}\\nText:{sample[0]}\\nEntities:{sample[1]['entities']}\")"
   ]
  },
  {
   "cell_type": "code",
   "execution_count": 41,
   "metadata": {},
   "outputs": [],
   "source": [
    "#Generating 10000 records\n",
    "training_data = generate_training_data(placeholder_to_generator, templates, num_samples=10000)"
   ]
  },
  {
   "cell_type": "markdown",
   "metadata": {},
   "source": [
    "SAVING TO A PICKLE FILE AND JSON FILE\n"
   ]
  },
  {
   "cell_type": "code",
   "execution_count": 50,
   "metadata": {},
   "outputs": [],
   "source": [
    "import json\n",
    "\n",
    "with open(\"C:\\\\Users\\\\HShah\\\\OneDrive - Genzeon Corporation\\\\Desktop\\\\ner_dataset\\\\vitals\\\\training_data\\\\training_data.json\", \"w\") as file:\n",
    "    json.dump(training_data, file, indent=4)"
   ]
  },
  {
   "cell_type": "code",
   "execution_count": 52,
   "metadata": {},
   "outputs": [
    {
     "name": "stdout",
     "output_type": "stream",
     "text": [
      "Patient: Lionel Ronaldo, Admit Date: 09/11/1991, Hospital: Madrid Hospital for Children, VITALS: RESP \u001b[1;33m28\u001b[0m, TEMP. \u001b[1;33m95.8\u001b[0m\n",
      "Abnormal Vitals Recorded: Temp - \u001b[1;33m84.7\u001b[0m°F (High), Pulse - \u001b[1;33m85\u001b[0mbpm (Low), BP - \u001b[1;33m126/60\u001b[0m (High), Resp - \u001b[1;33m28\u001b[0m/min (Low)\n",
      "\u001b[1;33m81.5\u001b[0mF, \u001b[1;33m83\u001b[0mbpm, \u001b[1;33m22\u001b[0m/min, BP: \u001b[1;33m149/80\u001b[0mmmHg\n",
      "Name: Sam Wood, DOB: 01/01/99, Admit Date: 2/27/20, VITALS: TEMP. \u001b[1;33m99.3\u001b[0m, HR: \u001b[1;33m82\u001b[0m\n",
      "Name: Issac Ferrari, ID: 22928, Hospital: Greenbull Hosptial, VITALS: TEMP. \u001b[1;33m103.5\u001b[0m, PULSE: \u001b[1;33m40\u001b[0m, B/P \u001b[1;33m90/80\u001b[0m\n",
      "Patient's Vitals: Temp - \u001b[1;33m101.1\u001b[0m, Pulse - \u001b[1;33m91\u001b[0m, Resp - \u001b[1;33m25\u001b[0m, BP - \u001b[1;33m130/87\u001b[0m | Patient: Lisa Banks\n",
      "Name: Karan Gupta, ID: 792424, DOB: 7/9/24, VITALS: TEMP. \u001b[1;33m104.6\u001b[0m, HEART RATE: \u001b[1;33m104\u001b[0m, B/P \u001b[1;33m150/71\u001b[0m\n",
      "Vital Readings: T - \u001b[1;33m81.9\u001b[0m°F, HR - \u001b[1;33m131\u001b[0mbpm, BP - \u001b[1;33m130/77\u001b[0m, RR - \u001b[1;33m28\u001b[0m/minVITALS: Temp - \u001b[1;33m82.4\u001b[0m, Pulse - \u001b[1;33m112\u001b[0m, Resp - \u001b[1;33m11\u001b[0m, BP - \u001b[1;33m98/88\u001b[0m\n",
      "\u001b[1;33m92.8\u001b[0m°F, \u001b[1;33m117\u001b[0m bpm, \u001b[1;33m8\u001b[0m breaths/min, BP: \u001b[1;33m81/73\u001b[0m\n",
      "Patient's Vitals: Temp - \u001b[1;33m82.6\u001b[0m, Pulse - \u001b[1;33m132\u001b[0m, Resp - \u001b[1;33m20\u001b[0m, BP - \u001b[1;33m130/67\u001b[0m | Patient: Lisa Banks\n",
      "Name: Karan Gupta, ID: 792424, DOB: 7/9/24, VITALS: TEMP. \u001b[1;33m91.0\u001b[0m, HEART RATE: \u001b[1;33m49\u001b[0m, B/P \u001b[1;33m83/81\u001b[0m\n",
      "\u001b[1;33m95.8\u001b[0m°F, \u001b[1;33m120\u001b[0m bpm, \u001b[1;33m23\u001b[0m breaths/min, BP: \u001b[1;33m87/72\u001b[0m\n",
      "Patient: Lionel Ronaldo, Admit Date: 09/11/1991, Hospital: Madrid Hospital for Children, VITALS: RESP \u001b[1;33m26\u001b[0m, TEMP. \u001b[1;33m89.0\u001b[0m\n",
      "Patient's Vitals: Temp - \u001b[1;33m84.3\u001b[0m, Pulse - \u001b[1;33m82\u001b[0m, Resp - \u001b[1;33m21\u001b[0m, BP - \u001b[1;33m102/80\u001b[0m | Patient: Lisa Banks\n",
      "Name: Issac Ferrari, ID: 22928, Hospital: Greenbull Hosptial, VITALS: TEMP. \u001b[1;33m83.3\u001b[0m, PULSE: \u001b[1;33m131\u001b[0m, B/P \u001b[1;33m107/75\u001b[0m\n",
      "VITALS: RR \u001b[1;33m9\u001b[0m, TEMP. \u001b[1;33m86.1\u001b[0m\n",
      "Patient: Lionel Ronaldo, Admit Date: 09/11/1991, Hospital: Madrid Hospital for Children, VITALS: RESP \u001b[1;33m11\u001b[0m, TEMP. \u001b[1;33m93.9\u001b[0m\n",
      "Patient ID: 595357, Name: Chris Doe, DOB: 4/4/44, VITALS: RESP \u001b[1;33m13\u001b[0m/min, B/P \u001b[1;33m133/66\u001b[0mmmHg\n",
      "Vitals: BP - \u001b[1;33m97/77\u001b[0m, Temp - \u001b[1;33m86.4\u001b[0m, Resp - \u001b[1;33m27\u001b[0m, Pulse - \u001b[1;33m81\u001b[0m\n",
      "Name: Karan Gupta, ID: 792424, DOB: 7/9/24, VITALS: TEMP. \u001b[1;33m100.8\u001b[0m, HEART RATE: \u001b[1;33m81\u001b[0m, B/P \u001b[1;33m88/60\u001b[0m\n",
      "Name: Karan Gupta, ID: 792424, DOB: 7/9/24, VITALS: TEMP. \u001b[1;33m102.2\u001b[0m, HEART RATE: \u001b[1;33m115\u001b[0m, B/P \u001b[1;33m137/84\u001b[0m\n",
      "Dear Dr. Priya Khan, please find below the latest vitals for patient Aakash Gupta: - Temperature: \u001b[1;33m101.7\u001b[0m - Blood Pressure: \u001b[1;33m132/79\u001b[0m - Respiratory Rate: \u001b[1;33m10\u001b[0m - Pulse Rate: \u001b[1;33m86\u001b[0m. These readings were taken at 15:03 on 09/27. Your attention to this matter is appreciated. Thank you.\n",
      "Dear Doctor, please find below the latest vitals for patient: Temperature - \u001b[1;33m88.8\u001b[0m°F, Pulse - \u001b[1;33m108\u001b[0mbeats/min, Respiratory Rate - \u001b[1;33m25\u001b[0m/min, Blood Pressure - \u001b[1;33m110/60\u001b[0m mm/Hg. Kindly review and advise accordingly. Thank you.\n",
      "Abnormal Vitals Recorded: Temp - \u001b[1;33m99.5\u001b[0m°F (High), Pulse - \u001b[1;33m104\u001b[0mbpm (Low), BP - \u001b[1;33m99/65\u001b[0m (High), Resp - \u001b[1;33m29\u001b[0m/min (Low)\n",
      "Patient: Orsborn Shin | Vitals - Resp: \u001b[1;33m29\u001b[0m, Pulse: \u001b[1;33m92\u001b[0m, Temp: \u001b[1;33m99.5\u001b[0m, BP: \u001b[1;33m137/71\u001b[0m\n",
      "Patient: Lionel Ronaldo, Admit Date: 09/11/1991, Hospital: Madrid Hospital for Children, VITALS: RESP \u001b[1;33m22\u001b[0m, TEMP. \u001b[1;33m97.6\u001b[0m\n",
      "\u001b[1;33m96.3\u001b[0m°F, \u001b[1;33m74\u001b[0m bpm, \u001b[1;33m19\u001b[0m breaths/min, BP: \u001b[1;33m131/80\u001b[0m\n",
      "Patient: Lionel Ronaldo, Admit Date: 09/11/1991, Hospital: Madrid Hospital for Children, VITALS: RESP \u001b[1;33m13\u001b[0m, TEMP. \u001b[1;33m103.5\u001b[0m\n",
      "Temp - \u001b[1;33m91.3\u001b[0m, Pulse - \u001b[1;33m99\u001b[0m, Resp - \u001b[1;33m9\u001b[0m\n",
      "Vitals - Temp: \u001b[1;33m88.0\u001b[0m, Pulse: \u001b[1;33m59\u001b[0m, Resp: \u001b[1;33m29\u001b[0m, BP: \u001b[1;33m84/85\u001b[0m\n",
      "T - \u001b[1;33m94.0\u001b[0m, HR - \u001b[1;33m104\u001b[0m, BP - \u001b[1;33m98/79\u001b[0mmmHg, RR - \u001b[1;33m10\u001b[0m/min\n",
      "\u001b[1;33m83.1\u001b[0m°F, \u001b[1;33m90\u001b[0m bpm, \u001b[1;33m18\u001b[0m breaths/min, BP: \u001b[1;33m132/73\u001b[0m\n",
      "Patient: Maria Gates, Gender: F, Admit Date: 07/22/2021, VITALS: TEMP. \u001b[1;33m100.5\u001b[0m, RESP: \u001b[1;33m8\u001b[0m\n",
      "Name: Levy Gotham, TEMP. \u001b[1;33m82.6\u001b[0mF, PULSE: \u001b[1;33m61\u001b[0mbpm, B/P \u001b[1;33m121/75\u001b[0mmmHg\n",
      "Patient's Vitals: Temp - \u001b[1;33m96.3\u001b[0m, Pulse - \u001b[1;33m90\u001b[0m, Resp - \u001b[1;33m26\u001b[0m, BP - \u001b[1;33m142/89\u001b[0m | Patient: Lisa Banks\n",
      "Name: Levy Gotham, TEMP. \u001b[1;33m80.1\u001b[0mF, PULSE: \u001b[1;33m134\u001b[0mbpm, B/P \u001b[1;33m114/73\u001b[0mmmHg\n",
      "Patient ID: 22127, Name: Ling Diren, Hospital: Apollo Hospital, VITALS: B/P \u001b[1;33m102/88\u001b[0mmmHg, TEMP. \u001b[1;33m84.4\u001b[0mF\n",
      "Name: John Brown Account No: 12345 Attending Physician: JeffT. Moore, M.D. Consulting Physician Adm Date: 11/12/1999 DOB: 09/10/44 Community General Hospital Anytown, USA PATIENT ADMISSION ASSESSMENT Date 1/IN44 Time 1600 Admit from: Dr. Office ERSHome Other Health Care Facility:. Reason for Adrission: (Patient's own words). Hechia Surgry Primary Care Physician:. 1i Mloore Previous Health Problems (Patient Only) NA 1. Diabetes 2. Epilepsy/seizure disorder 3. High Blood Pressure 4. Heart Disease 5. Kidney Disease 6. Cancer Medications Anesthetics Other. Comments by nymber and other hosptalationsurgenes Dreyibus lnia repr 7. Respiratory 8. GU/GYN 9. GI 10. Steroid use D 11. Flu Vaccine Current CP N 12. Pneumonia Vaccine current Y(Nnog give patient information VITALS: TEMP. \u001b[1;33m91.3\u001b[0m PULSE \u001b[1;33m47\u001b[0m RESP \u001b[1;33m19\u001b[0m B/P \u001b[1;33m134/60\u001b[0m mmHg Wt 19096s ALLERGIES HABITS NVA Food Environmental Dyes Ruber/atexbalons: Yes (NONA Yrs. Other Tobacco: Yes_No per day. Alcohol: Yes-No) per day. Yrs. Chew: Yes No2 yrs. Drug use/abuse: Yes Noype. per day. MEDICATIONS: Brought to hospital: YN Sent Home: Y N To Pharmacy: Y N Personal Pharmacy. NAME NA DOSE/FREQUENCY TIME OF LAST DOSE Rx OTC Do you use herbs or other alternative medications: Yes ONo List: Lainko OKAcSIonly Orientation to room: -3 Calllight Pelephone bathroom location_tghts meal time visitor polcy Personal belongings kept on person or at bedside: None Eyeglasses Contacts Hearing aids Glass eye Walker Wheelchair WE ARE NOT RESPONSIBLE FORI BELONGINGS/NALUABLES. WE STRONGLY SUGGEST YOU SEND ITEMS HOME. lacknowledge that the above belongings are in. my possession. Ihave received information on Advanced Directives and Organ Tissue Denture (Upper/Lower) Partial (Upper/Lower) Crutches Clothing/Other Money $. Donation. (circle) Home Safe Kept Jewelry. (circle) Home Safe Kept Patient gDe Witness hc\n",
      "Name: John Brown Account No: 12345 Attending Physician: JeffT. Moore, M.D. Consulting Physician Adm Date: 11/12/1999 DOB: 09/10/44 Community General Hospital Anytown, USA PATIENT ADMISSION ASSESSMENT Date 1/IN44 Time 1600 Admit from: Dr. Office ERSHome Other Health Care Facility:. Reason for Adrission: (Patient's own words). Hechia Surgry Primary Care Physician:. 1i Mloore Previous Health Problems (Patient Only) NA 1. Diabetes 2. Epilepsy/seizure disorder 3. High Blood Pressure 4. Heart Disease 5. Kidney Disease 6. Cancer Medications Anesthetics Other. Comments by nymber and other hosptalationsurgenes Dreyibus lnia repr 7. Respiratory 8. GU/GYN 9. GI 10. Steroid use D 11. Flu Vaccine Current CP N 12. Pneumonia Vaccine current Y(Nnog give patient information VITALS: TEMP. \u001b[1;33m94.0\u001b[0m PULSE \u001b[1;33m117\u001b[0m RESP \u001b[1;33m23\u001b[0m B/P \u001b[1;33m87/72\u001b[0m mmHg Wt 19096s ALLERGIES HABITS NVA Food Environmental Dyes Ruber/atexbalons: Yes (NONA Yrs. Other Tobacco: Yes_No per day. Alcohol: Yes-No) per day. Yrs. Chew: Yes No2 yrs. Drug use/abuse: Yes Noype. per day. MEDICATIONS: Brought to hospital: YN Sent Home: Y N To Pharmacy: Y N Personal Pharmacy. NAME NA DOSE/FREQUENCY TIME OF LAST DOSE Rx OTC Do you use herbs or other alternative medications: Yes ONo List: Lainko OKAcSIonly Orientation to room: -3 Calllight Pelephone bathroom location_tghts meal time visitor polcy Personal belongings kept on person or at bedside: None Eyeglasses Contacts Hearing aids Glass eye Walker Wheelchair WE ARE NOT RESPONSIBLE FORI BELONGINGS/NALUABLES. WE STRONGLY SUGGEST YOU SEND ITEMS HOME. lacknowledge that the above belongings are in. my possession. Ihave received information on Advanced Directives and Organ Tissue Denture (Upper/Lower) Partial (Upper/Lower) Crutches Clothing/Other Money $. Donation. (circle) Home Safe Kept Jewelry. (circle) Home Safe Kept Patient gDe Witness hc\n",
      "Name: Sam Wood, DOB: 01/01/99, Admit Date: 2/27/20, VITALS: TEMP. \u001b[1;33m98.1\u001b[0m, HR: \u001b[1;33m77\u001b[0m\n",
      "\u001b[1;33m94.9\u001b[0mF, \u001b[1;33m117\u001b[0mbpm, \u001b[1;33m9\u001b[0m/min, BP: \u001b[1;33m148/80\u001b[0mmmHg\n",
      "Vitals - Temp: \u001b[1;33m98.1\u001b[0m, Pulse: \u001b[1;33m60\u001b[0m, Resp: \u001b[1;33m8\u001b[0m, BP: \u001b[1;33m100/84\u001b[0m\n",
      "Name: Karen Singh, Gender: Other, Admit Date: 10/24/2024, VITALS: B/P \u001b[1;33m128/84\u001b[0m, TEMP. \u001b[1;33m87.8\u001b[0m, RESP: \u001b[1;33m9\u001b[0m\n",
      "Name: Sam Wood, DOB: 01/01/99, Admit Date: 2/27/20, VITALS: TEMP. \u001b[1;33m99.8\u001b[0m, HR: \u001b[1;33m43\u001b[0m\n",
      "T - \u001b[1;33m92.7\u001b[0m, HR - \u001b[1;33m54\u001b[0m, BP - \u001b[1;33m124/61\u001b[0mmmHg, RR - \u001b[1;33m14\u001b[0m/min\n",
      "Vital Signs: HR - \u001b[1;33m52\u001b[0m bpm, BP - \u001b[1;33m128/88\u001b[0m, RR - \u001b[1;33m9\u001b[0m/min, Temp - \u001b[1;33m81.8\u001b[0m°F\n",
      "\u001b[1;33m104.3\u001b[0m°F, \u001b[1;33m113\u001b[0m bpm, \u001b[1;33m13\u001b[0m breaths/min, BP: \u001b[1;33m100/60\u001b[0m\n",
      "Temp - \u001b[1;33m82.8\u001b[0m, Pulse - \u001b[1;33m112\u001b[0m, Resp - \u001b[1;33m26\u001b[0m\n",
      "Patient's Vitals: Temp - \u001b[1;33m83.6\u001b[0m, Pulse - \u001b[1;33m63\u001b[0m, Resp - \u001b[1;33m15\u001b[0m, BP - \u001b[1;33m141/72\u001b[0m | Patient: Lisa Banks\n",
      "Dear Dr. Priya Khan, please find below the latest vitals for patient Aakash Gupta: - Temperature: \u001b[1;33m82.3\u001b[0m - Blood Pressure: \u001b[1;33m147/77\u001b[0m - Respiratory Rate: \u001b[1;33m18\u001b[0m - Pulse Rate: \u001b[1;33m52\u001b[0m. These readings were taken at 15:03 on 09/27. Your attention to this matter is appreciated. Thank you.\n"
     ]
    }
   ],
   "source": [
    "#Checking start and end for training data\n",
    "\n",
    "#Highlighting text to see if spans are correct\n",
    "\n",
    "import json\n",
    "\n",
    "def highlight_text(text, entities):\n",
    "    highlighted_text = \"\"\n",
    "    current_pos = 0\n",
    "\n",
    "    for entity in entities:\n",
    "        start, end, label = entity\n",
    "        highlighted_text += text[current_pos:start]  # Append text before the entity\n",
    "        highlighted_text += \"\\033[1;33m\" + text[start:end] + \"\\033[0m\"  # Highlight the entity\n",
    "        current_pos = end  # Update current position\n",
    "\n",
    "    highlighted_text += text[current_pos:]  # Append remaining text\n",
    "    return highlighted_text\n",
    "\n",
    "# Load data from JSON file\n",
    "with open(\"C:\\\\Users\\\\HShah\\\\OneDrive - Genzeon Corporation\\\\Desktop\\\\ner_dataset\\\\vitals\\\\training_data\\\\training_data.json\", \"r\") as file:\n",
    "    data = json.load(file)\n",
    "\n",
    "# Iterate over each element in the JSON\n",
    "for entry in data[:50]:\n",
    "    if isinstance(entry, list) and len(entry) == 2:\n",
    "        text = entry[0]\n",
    "        entities = entry[1][\"entities\"]\n",
    "        highlighted_text = highlight_text(text, entities)\n",
    "        print(highlighted_text)\n",
    "    else:\n",
    "        print(\"Invalid JSON format for entry:\", entry)\n"
   ]
  },
  {
   "cell_type": "code",
   "execution_count": 47,
   "metadata": {},
   "outputs": [],
   "source": [
    "import os\n",
    "import pickle\n",
    "\n",
    "pickle_file_path = \"C:\\\\Users\\\\HShah\\\\OneDrive - Genzeon Corporation\\\\Desktop\\\\ner_dataset\\\\vitals\\\\training_data\\\\training_data.pkl\"\n",
    "\n",
    "with open(pickle_file_path, \"wb\") as file:\n",
    "    pickle.dump(training_data, file)"
   ]
  }
 ],
 "metadata": {
  "kernelspec": {
   "display_name": "fgvenv",
   "language": "python",
   "name": "python3"
  },
  "language_info": {
   "codemirror_mode": {
    "name": "ipython",
    "version": 3
   },
   "file_extension": ".py",
   "mimetype": "text/x-python",
   "name": "python",
   "nbconvert_exporter": "python",
   "pygments_lexer": "ipython3",
   "version": "3.11.8"
  }
 },
 "nbformat": 4,
 "nbformat_minor": 2
}
